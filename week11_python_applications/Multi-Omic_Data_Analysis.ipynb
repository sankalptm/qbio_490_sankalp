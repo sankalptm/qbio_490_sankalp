{
 "cells": [
  {
   "cell_type": "markdown",
   "id": "03733728",
   "metadata": {},
   "source": [
    "# Multi-Omic Data Analysis\n",
    "In the first part of this notebook, we will look at putting together all of the -omics that we have seen so far: genomics, transcriptomics, and proteomics. \n",
    "<br></br>\n",
    "In the second part of this notebook, your assignment is to put this into action and demonstrate a general knowledge of the different -omics using both TCGA and CPTAC data."
   ]
  },
  {
   "cell_type": "code",
   "execution_count": null,
   "id": "d0279801",
   "metadata": {},
   "outputs": [],
   "source": [
    "import cptac\n",
    "import numpy as np\n",
    "import pandas as pd\n",
    "import os\n",
    "import matplotlib.pyplot as plt\n",
    "\n",
    "import warnings\n",
    "warnings.filterwarnings('ignore')"
   ]
  },
  {
   "cell_type": "code",
   "execution_count": null,
   "id": "12c6a5d3",
   "metadata": {},
   "outputs": [],
   "source": [
    "os.chdir(PATH/TO/analysis_data)"
   ]
  },
  {
   "cell_type": "code",
   "execution_count": null,
   "id": "91ce2f2e",
   "metadata": {},
   "outputs": [],
   "source": [
    "#cptac.download('Brca') # shouldn't need this if already downloaded\n",
    "brca = cptac.Brca()\n",
    "\n",
    "clinical = brca.get_clinical() # Clinical Data\n",
    "mutation = brca.get_somatic_mutation() # Genomic Data\n",
    "rna = brca.get_transcriptomics() # Transcriptomic Data\n",
    "protein = brca.get_proteomics() # Proteomic Data\n",
    "protein.columns = protein.columns.get_level_values(0) # Fix protein data columns"
   ]
  },
  {
   "cell_type": "markdown",
   "id": "e969ab21",
   "metadata": {},
   "source": [
    "## Let's revisit the structure of our different -omics...\n",
    "### Clinical"
   ]
  },
  {
   "cell_type": "markdown",
   "id": "36aed571",
   "metadata": {},
   "source": [
    "This is the data about the patient that was collected at the time that the sample was taken.\n",
    "Rows are patients, columns are variables."
   ]
  },
  {
   "cell_type": "code",
   "execution_count": null,
   "id": "3e20f16b",
   "metadata": {},
   "outputs": [],
   "source": [
    "clinical.head()"
   ]
  },
  {
   "cell_type": "markdown",
   "id": "6d3e797f",
   "metadata": {},
   "source": [
    "### Mutation\n",
    "Our mutation data looks a little different than it did as a MAF file, but the important information is still here. Rows are patients, Gene is the name of the gene, Mutation is the type of mutation, and Location is where the mutation occurs."
   ]
  },
  {
   "cell_type": "code",
   "execution_count": null,
   "id": "f87792d0",
   "metadata": {},
   "outputs": [],
   "source": [
    "mutation.head()"
   ]
  },
  {
   "cell_type": "markdown",
   "id": "0aea8109",
   "metadata": {},
   "source": [
    "### RNA and Protein\n",
    "These both look exactly the same. The rows are patients, columns are genes, and the numbers represent log2 fold change compared to the standard. Note that the RNA DataFrame has roughly 2x as many columns as the Protein DataFrame. This is because of non-coding genes. "
   ]
  },
  {
   "cell_type": "code",
   "execution_count": null,
   "id": "033bcbd2",
   "metadata": {},
   "outputs": [],
   "source": [
    "rna.head()"
   ]
  },
  {
   "cell_type": "code",
   "execution_count": null,
   "id": "055471ce",
   "metadata": {},
   "outputs": [],
   "source": [
    "protein.head()"
   ]
  },
  {
   "cell_type": "markdown",
   "id": "920d2cb7",
   "metadata": {},
   "source": [
    "## Reformatting data\n",
    "### Finding shared patients\n",
    "All 4 DataFrames we have here share the common characteristic that the rows are the patient_IDs. This is actually really helpful! However, not all DataFrames have the same number of patients. For example, the mutation DataFrame has many times more rows than patients because each patient shows up everytime for a new mutation. Othertimes, you have masked out some patients from a DataFrame but not the other. In order to find the shared patients between DataFrames, we can use the np.intersect1d() function."
   ]
  },
  {
   "cell_type": "code",
   "execution_count": null,
   "id": "61ec006f",
   "metadata": {},
   "outputs": [],
   "source": [
    "# skeleton code\n",
    "\n",
    "patients_df1 = df1.index # the indices of each DF are the patients within that DF\n",
    "patients_df2 = df2.index\n",
    "\n",
    "shared_patients = np.intersect1d(patients_df1, patients_df2) # find shared and save indices\n",
    "\n",
    "shared_df1 = df1.loc[shared_patients, :] # use our list of shared patients to grab only those patients\n",
    "shared_df2 = df2.loc[shared_patients, :] # notice we are grabbing all columns and assigning to new df"
   ]
  },
  {
   "cell_type": "markdown",
   "id": "32c8561c",
   "metadata": {},
   "source": [
    "Example"
   ]
  },
  {
   "cell_type": "code",
   "execution_count": null,
   "id": "8aed1e92",
   "metadata": {},
   "outputs": [],
   "source": [
    "high_MUC16_prot = protein[protein.loc[:, 'MUC16'] > 1]\n",
    "high_MUC16_RNA = rna[rna.loc[:, 'MUC16'] > 1]\n",
    "\n",
    "shared_MUC16 = np.intersect1d(high_MUC16_prot.index, high_MUC16_RNA.index)\n",
    "\n",
    "print(f'prot rows: {len(high_MUC16_prot)}')\n",
    "print(f'RNA rows: {len(high_MUC16_RNA)}')\n",
    "print(f'shared patients: {len(shared_MUC16)}')"
   ]
  },
  {
   "cell_type": "markdown",
   "id": "481ee29b",
   "metadata": {},
   "source": [
    "### Counting # of Somatic Mutations in Individual\n",
    "Say we wanted to look at how the number of mutations in MUC16 relate to RNA and protein expression. How do we do this? We can't use the prior approach since the Mutation DF has many more rows than # of patients. We want to get a count of the number of MUC16 mutations in each patient. We can use the  Series.value_counts() method."
   ]
  },
  {
   "cell_type": "code",
   "execution_count": null,
   "id": "6ab0e722",
   "metadata": {},
   "outputs": [],
   "source": [
    "# Start by getting only mutations you are interested in\n",
    "MUC16_mutat_mask = mutation.loc[:, 'Gene'] == 'MUC16'\n",
    "MUC16_mutations = mutation.loc[MUC16_mutat_mask, :]\n",
    "MUC16_mutations.head()"
   ]
  },
  {
   "cell_type": "code",
   "execution_count": null,
   "id": "15d3d67d",
   "metadata": {},
   "outputs": [],
   "source": [
    "# Then get a list of the patient names (hint: the index)\n",
    "patients_with_mutation = MUC16_mutations.index\n",
    "\n",
    "# Then use the value_counts() function to count how many times each patient appears\n",
    "MUC16_counts = patients_with_mutation.value_counts()\n",
    "print(MUC16_counts)"
   ]
  },
  {
   "cell_type": "markdown",
   "id": "afcb338c",
   "metadata": {},
   "source": [
    "Wow it looks like one patient, X01BR043, has the majority of all MUC16 mutations. Let's see what fraction of our MUC16 patients are in our shared high MUC16 RNA and Protein list from before"
   ]
  },
  {
   "cell_type": "code",
   "execution_count": null,
   "id": "0e5f813b",
   "metadata": {},
   "outputs": [],
   "source": [
    "np.intersect1d(MUC16_counts.index, shared_MUC16)"
   ]
  },
  {
   "cell_type": "markdown",
   "id": "3618d0c2",
   "metadata": {},
   "source": [
    "Only two patients were shared between the list. Perhaps this means that the converse is true.. that mutations are linked to lower gene expression. Let's put all of this data together for our analysis."
   ]
  },
  {
   "cell_type": "code",
   "execution_count": null,
   "id": "88904775",
   "metadata": {},
   "outputs": [],
   "source": [
    "patients_df = pd.DataFrame(\n",
    "    columns=['MUC16_Mutations', 'RNA_Expression', 'Protein_Expression'], \n",
    "    index=clinical.index)\n",
    "\n",
    "patients_df"
   ]
  },
  {
   "cell_type": "markdown",
   "id": "a3323288",
   "metadata": {},
   "source": [
    "Now that we have our DataFrame, let's fill in the values."
   ]
  },
  {
   "cell_type": "code",
   "execution_count": null,
   "id": "06d9aebb",
   "metadata": {},
   "outputs": [],
   "source": [
    "patients_df.loc[MUC16_counts.index, 'MUC16_Mutations'] = MUC16_counts\n",
    "patients_df.loc[patients_df.index.difference(MUC16_counts.index), 'MUC16_Mutations'] = 0\n",
    "# df.index.difference(list) gives you all of the indices for the rows that are not in that list\n",
    "# here, we are setting all of the patients who don't appear in MUC16_Mutations to have 0 mutations\n",
    "\n",
    "patients_df.loc[:, 'RNA_Expression'] = rna.loc[:, 'MUC16']\n",
    "patients_df.loc[:, 'Protein_Expression'] = protein.loc[:, 'MUC16']"
   ]
  },
  {
   "cell_type": "code",
   "execution_count": null,
   "id": "3ec4ead1",
   "metadata": {},
   "outputs": [],
   "source": [
    "print(patients_df.isna().sum()) # count number of NAs in each column, let's drop the rows with NAs\n",
    "patients_df.dropna(axis=0, inplace=True) # drops rows with NA values, alternatively use axis=1 to drop columns"
   ]
  },
  {
   "cell_type": "markdown",
   "id": "ac0145ad",
   "metadata": {},
   "source": [
    "Let's see if we can gain anything from a UMAP of our data..."
   ]
  },
  {
   "cell_type": "code",
   "execution_count": null,
   "id": "14255265",
   "metadata": {},
   "outputs": [],
   "source": [
    "from sklearn.preprocessing import StandardScaler\n",
    "scaler = StandardScaler()\n",
    "from umap import UMAP\n",
    "import matplotlib.patches as mpatches\n",
    "import matplotlib.lines as lines\n",
    "\n",
    "reducer = UMAP()\n",
    "transformed_df = scaler.fit_transform(patients_df)\n",
    "embedding = reducer.fit_transform(transformed_df)\n",
    "\n",
    "colors_rna = np.where(patients_df.loc[:, 'RNA_Expression'] > 1, 'blue', 'grey')\n",
    "colors_protein = np.where(patients_df.loc[:, 'Protein_Expression'] > 1, 'red', 'grey')\n",
    "show_mutations = np.where(patients_df.loc[:, 'MUC16_Mutations'] > 0, 0.3, 0)\n",
    "\n",
    "fig, ax = plt.subplots()\n",
    "\n",
    "ax.scatter(embedding[:, 0], embedding[:, 1], c=colors_rna, s=20, alpha=0.6)\n",
    "ax.scatter(embedding[:, 0], embedding[:, 1], c=colors_protein, s=20, alpha=0.5)\n",
    "ax.scatter(embedding[:, 0], embedding[:, 1], alpha=show_mutations, color='white', s=100, edgecolor='Black')\n",
    "\n",
    "rna = mpatches.Patch(color='blue', label='High MUC16 RNA')\n",
    "protein = mpatches.Patch(color='red', label='High MUC16 Protein')\n",
    "shared = mpatches.Patch(color='mediumorchid', label='High MUC16 RNA+Protein')\n",
    "mutations = lines.Line2D([], [], color=\"white\", alpha=0.5, marker='o', markersize=10, markerfacecolor=\"white\", markeredgecolor='black', label='MUC16 Mutation +')\n",
    "\n",
    "ax.legend(handles=[rna, protein, shared, mutations], bbox_to_anchor=[0.85,-0.05], fancybox=True, ncol=2)"
   ]
  },
  {
   "cell_type": "markdown",
   "id": "afb792c2",
   "metadata": {},
   "source": [
    "From our plot, we can see that while the Mutation+ patients tend to be spread throughout the different categories, it doesn't seem like many are high in both MUC16 RNA expression AND MUC16 Protein expression."
   ]
  },
  {
   "cell_type": "markdown",
   "id": "93eff5d6",
   "metadata": {},
   "source": [
    "## Assignment\n",
    "This assignment has 2 parts and unlike the past few assignments, it will be more open-ended. Grading will be based on effort and thoughtful analysis, not whether your data was significant."
   ]
  },
  {
   "cell_type": "markdown",
   "id": "ecad6d0e",
   "metadata": {},
   "source": [
    "**Exercise 1** - Investigate the Central Dogma (5pt)\n",
    "<br>\n",
    "Complete a multi-omic analysis analysis of a gene, looking at how mutation rate, RNA expression, and protein expression are correlated (or not!). Choose your gene logically and include a justification (e.g. relative protein abundance, , high nonsense mutation rate, based in the literature as having implications with breast cancer, etc)\n",
    "You may not use any of the following genes: TP53, TTN, PIK3CA, MUC16, BRCA1/2\n",
    "<br> </br>\n",
    "Include the following (1pt each):\n",
    "+ Justification for choosing the gene (e.g. relevant code used to pick or link to research article). One to two sentence explanation of the function of the gene.\n",
    "+ Examination of the somatic mutations with respect to type, number per individual, or density\n",
    "+ Some form of figure that shows relationship between RNA expression and Protein Expression\n",
    "+ A statistical test that gives a p-value. Interpret the p-value in terms of the test and the data. We've mostly looked at correlation tests but you don't necessarily have to use one. Scipy.stats is a great resource https://docs.scipy.org/doc/scipy/reference/stats.html#correlation-functions\n",
    "+ Three to four sentence writeup of your thoughts behind why you got the results you got (just brainstorm some ideas, it doesn't need to be super thorough)\n",
    "\n",
    "Remember: If there is no correlation, state that, you don't need to try multiple genes if you aren't getting promising results."
   ]
  },
  {
   "cell_type": "code",
   "execution_count": null,
   "id": "882a9ae0",
   "metadata": {},
   "outputs": [],
   "source": [
    "# write code here"
   ]
  },
  {
   "cell_type": "markdown",
   "id": "b4e2205b",
   "metadata": {},
   "source": [
    "**Exercise 2** - Looking for Connections (5pt)\n",
    "As the types or size of data increases, it can be harder to find patterns within the data. This presents a perfect opportunity to use one of our newest techniques: machine learning. In this exercise, you will attempt to predict a clinical variable based on genetic and mutation data. \n",
    "<br></br>\n",
    "Our clinical data from CPTAC is pretty sparse however, and doesn't give us much in the way to predict. Luckily, we can use our TCGA data just as easily. Using the pd.read_csv() functions, read in your clinical, mutation, and transcriptomic data. \n",
    "<br></br>\n",
    "Your task is as follows (1pt each):\n",
    "+ Load in your TCGA analysis_data and choose one of the following clinical variables:\n",
    " vital_status, days_to_last_known_alive/days_to_death/days_to_last_followup (combine), histological_type, age_at_initial_pathologic_diagnosis, lymph_node_examined_count or breast_carcinoma_progesterone_receptor_status.\n",
    "+ Determine which genes you want to use for your regressor/classifier (you can use ones we've looked at, genes which are commonly associated with breast cancer outcomes, the most mutated genes, etc) and create a DataFrame that includes those genes RNA and mutation data. You can choose which data/how many data dimensions you want.\n",
    "+ Train a regressor/classifier (your choice of which method) on your chosen data with the target being your chosen variable (hint: if you choose a categorical variable, you will need to use a LabelEncoder())\n",
    "+ Measure and interpret the accuracy of the model. If you do not get above a 0.5 accuracy (for classification) or within 10% of the target (regression), retry with a different ML model, train test split, or genes used. If you cannot meet any of the goals within 5 tries, move on (it's okay!).\n",
    "+ Write a few sentences about why a machine learning algorithm like a regressor/classifier would be important in a clinical setting. Depending on whether you got it within 5 tries or not, discuss why you think your genes/parameters were/were not able to predict it."
   ]
  },
  {
   "cell_type": "code",
   "execution_count": null,
   "id": "91195909",
   "metadata": {},
   "outputs": [],
   "source": [
    "# write code here"
   ]
  }
 ],
 "metadata": {
  "kernelspec": {
   "display_name": "Python 3 (ipykernel)",
   "language": "python",
   "name": "python3"
  },
  "language_info": {
   "codemirror_mode": {
    "name": "ipython",
    "version": 3
   },
   "file_extension": ".py",
   "mimetype": "text/x-python",
   "name": "python",
   "nbconvert_exporter": "python",
   "pygments_lexer": "ipython3",
   "version": "3.9.12"
  }
 },
 "nbformat": 4,
 "nbformat_minor": 5
}
